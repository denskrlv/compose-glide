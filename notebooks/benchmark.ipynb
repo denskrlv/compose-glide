{
 "cells": [
  {
   "cell_type": "code",
   "execution_count": null,
   "id": "57cdab59",
   "metadata": {},
   "outputs": [],
   "source": [
    "import torch\n",
    "\n",
    "from compose_glide import ComposeGlide\n",
    "from PIL import Image\n",
    "\n",
    "\n",
    "compositional_prompts = [\n",
    "    \"No Smiling AND NOT Glasses AND NOT Female\",\n",
    "    \"Smiling AND NOT (No Glasses) AND NOT Female\",\n",
    "    \"NOT (No Smiling) AND No Glasses AND NOT Male\",\n",
    "    \"NOT (No Smiling) AND NOT (No Glasses) AND Male\",\n",
    "    \"Smiling AND NOT (No Glasses) AND NOT Male\"\n",
    "]\n",
    "\n",
    "NUM_VARIANTS = 20\n",
    "\n",
    "\n",
    "def tensor_to_image(tensor):\n",
    "    \"\"\"Convert a PyTorch tensor to a PIL Image.\"\"\"\n",
    "    # Scale from [-1, 1] to [0, 255]\n",
    "    scaled = ((tensor + 1) * 127.5).round().clamp(0, 255).to(torch.uint8).cpu()\n",
    "    \n",
    "    # Rearrange dimensions from CxHxW to HxWxC\n",
    "    if scaled.dim() == 3:  # Single image\n",
    "        img = scaled.permute(1, 2, 0).numpy()\n",
    "    else:  # Batch of images\n",
    "        img = scaled[0].permute(1, 2, 0).numpy()  # Take the first image\n",
    "        \n",
    "    return Image.fromarray(img)\n",
    "\n",
    "\n",
    "if __name__ == \"__main__\":\n",
    "\n",
    "    compose_glide = ComposeGlide(model_name='glide_faces', verbose=True)\n",
    "    print(compose_glide)\n",
    "\n",
    "    for i, prompt in enumerate(compositional_prompts):\n",
    "        for j in range(NUM_VARIANTS):\n",
    "\n",
    "            print(f\"Generating image for prompt {1} variant {j}\")\n",
    "\n",
    "            result, _ = compose_glide.generate(\n",
    "                prompt, \n",
    "                num_images=1, \n",
    "                upsample=True, \n",
    "                upsample_temp=0.995,\n",
    "                save_intermediate_steps=10,\n",
    "                return_attention_maps=True\n",
    "            )\n",
    "\n",
    "            image = tensor_to_image(result)\n",
    "            image_path = f\"../outputs/prompt_{i}_variant_{j}.png\"\n",
    "            image.save(image_path)\n",
    "            print(f\"Saved: {image_path}!\")"
   ]
  }
 ],
 "metadata": {
  "kernelspec": {
   "display_name": ".venv",
   "language": "python",
   "name": "python3"
  },
  "language_info": {
   "codemirror_mode": {
    "name": "ipython",
    "version": 3
   },
   "file_extension": ".py",
   "mimetype": "text/x-python",
   "name": "python",
   "nbconvert_exporter": "python",
   "pygments_lexer": "ipython3",
   "version": "3.13.3"
  }
 },
 "nbformat": 4,
 "nbformat_minor": 5
}
